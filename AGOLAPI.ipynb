{
 "cells": [
  {
   "cell_type": "code",
   "execution_count": 2,
   "metadata": {
    "collapsed": true
   },
   "outputs": [],
   "source": [
    "from arcgis.gis import GIS\n",
    "from IPython.display import display"
   ]
  },
  {
   "cell_type": "code",
   "execution_count": 4,
   "metadata": {
    "scrolled": true
   },
   "outputs": [
    {
     "data": {
      "text/html": [
       "<div class=\"item_container\" style=\"height: auto; overflow: hidden; border: 1px solid #cfcfcf; border-radius: 2px; background: #f6fafa; line-height: 1.21429em; padding: 10px;\">\n",
       "                    <div class=\"item_left\" style=\"width: 210px; float: left;\">\n",
       "                       <a href='http://www.arcgis.com/home/item.html?id=569a3179595e4922a10d57e39be1d861' target='_blank'>\n",
       "                        <img src='http://www.arcgis.com/sharing/rest//content/items/569a3179595e4922a10d57e39be1d861/info/thumbnail/thumbnail.png' class=\"itemThumbnail\">\n",
       "                       </a>\n",
       "                    </div>\n",
       "\n",
       "                    <div class=\"item_right\"     style=\"float: none; width: auto; overflow: hidden;\">\n",
       "                        <a href='http://www.arcgis.com/home/item.html?id=569a3179595e4922a10d57e39be1d861' target='_blank'><b>Yosemite Mariposa</b>\n",
       "                        </a>\n",
       "                        <br/>Data layers to support Yosemite-Mariposa IRWM Data Management Application<img src='http://www.arcgis.com/home/js/jsapi/esri/css/images/item_type_icons/featureshosted16.png' style=\"vertical-align:middle;\">Feature Layer Collection by SNAlliance\n",
       "                        <br/>Last Modified: August 16, 2016\n",
       "                        <br/>0 comments, 10,073 views\n",
       "                    </div>\n",
       "                </div>\n",
       "                "
      ],
      "text/plain": [
       "<Item title:\"Yosemite Mariposa\" type:Feature Service owner:SNAlliance>"
      ]
     },
     "metadata": {},
     "output_type": "display_data"
    },
    {
     "data": {
      "text/html": [
       "<div class=\"item_container\" style=\"height: auto; overflow: hidden; border: 1px solid #cfcfcf; border-radius: 2px; background: #f6fafa; line-height: 1.21429em; padding: 10px;\">\n",
       "                    <div class=\"item_left\" style=\"width: 210px; float: left;\">\n",
       "                       <a href='http://www.arcgis.com/home/item.html?id=77693e47d8cc43fca24cb9ebf2f381c1' target='_blank'>\n",
       "                        <img src='http://www.arcgis.com/sharing/rest//content/items/77693e47d8cc43fca24cb9ebf2f381c1/info/thumbnail/FS10ge1.jpg' class=\"itemThumbnail\">\n",
       "                       </a>\n",
       "                    </div>\n",
       "\n",
       "                    <div class=\"item_right\"     style=\"float: none; width: auto; overflow: hidden;\">\n",
       "                        <a href='http://www.arcgis.com/home/item.html?id=77693e47d8cc43fca24cb9ebf2f381c1' target='_blank'><b>Ecological Overlay Feature Service (Cnps FS10)</b>\n",
       "                        </a>\n",
       "                        <br/>Ecological Overlay Feature Service (Cnps FS10)<img src='http://www.arcgis.com/home/js/jsapi/esri/css/images/item_type_icons/featureshosted16.png' style=\"vertical-align:middle;\">Feature Layer Collection by charlesc\n",
       "                        <br/>Last Modified: January 12, 2015\n",
       "                        <br/>0 comments, 395 views\n",
       "                    </div>\n",
       "                </div>\n",
       "                "
      ],
      "text/plain": [
       "<Item title:\"Ecological Overlay Feature Service (Cnps FS10)\" type:Feature Service owner:charlesc>"
      ]
     },
     "metadata": {},
     "output_type": "display_data"
    },
    {
     "data": {
      "text/html": [
       "<div class=\"item_container\" style=\"height: auto; overflow: hidden; border: 1px solid #cfcfcf; border-radius: 2px; background: #f6fafa; line-height: 1.21429em; padding: 10px;\">\n",
       "                    <div class=\"item_left\" style=\"width: 210px; float: left;\">\n",
       "                       <a href='http://www.arcgis.com/home/item.html?id=b9b716e09b5048179ab648bb4518452b' target='_blank'>\n",
       "                        <img src='http://www.arcgis.com/sharing/rest//content/items/b9b716e09b5048179ab648bb4518452b/info/thumbnail/Sac_OD_Thumb_-_GIS.png' class=\"itemThumbnail\">\n",
       "                       </a>\n",
       "                    </div>\n",
       "\n",
       "                    <div class=\"item_right\"     style=\"float: none; width: auto; overflow: hidden;\">\n",
       "                        <a href='http://www.arcgis.com/home/item.html?id=b9b716e09b5048179ab648bb4518452b' target='_blank'><b>City_Maintained_Trees</b>\n",
       "                        </a>\n",
       "                        <br/>City Maintained Trees<img src='http://www.arcgis.com/home/js/jsapi/esri/css/images/item_type_icons/featureshosted16.png' style=\"vertical-align:middle;\">Feature Layer Collection by Publisher_SacCity\n",
       "                        <br/>Last Modified: April 30, 2017\n",
       "                        <br/>0 comments, 12 views\n",
       "                    </div>\n",
       "                </div>\n",
       "                "
      ],
      "text/plain": [
       "<Item title:\"City_Maintained_Trees\" type:Feature Service owner:Publisher_SacCity>"
      ]
     },
     "metadata": {},
     "output_type": "display_data"
    },
    {
     "data": {
      "text/html": [
       "<div class=\"item_container\" style=\"height: auto; overflow: hidden; border: 1px solid #cfcfcf; border-radius: 2px; background: #f6fafa; line-height: 1.21429em; padding: 10px;\">\n",
       "                    <div class=\"item_left\" style=\"width: 210px; float: left;\">\n",
       "                       <a href='http://www.arcgis.com/home/item.html?id=41f4a026debb4380832219218275eef7' target='_blank'>\n",
       "                        <img src='http://www.arcgis.com/sharing/rest//content/items/41f4a026debb4380832219218275eef7/info/thumbnail/Sac_OD_Thumb_-_GIS.png' class=\"itemThumbnail\">\n",
       "                       </a>\n",
       "                    </div>\n",
       "\n",
       "                    <div class=\"item_right\"     style=\"float: none; width: auto; overflow: hidden;\">\n",
       "                        <a href='http://www.arcgis.com/home/item.html?id=41f4a026debb4380832219218275eef7' target='_blank'><b>UF_Maintenance_Zones</b>\n",
       "                        </a>\n",
       "                        <br/>City of Sacramento Urban Forestry Maintenance Zones<img src='http://www.arcgis.com/home/js/jsapi/esri/css/images/item_type_icons/featureshosted16.png' style=\"vertical-align:middle;\">Feature Layer Collection by Publisher_SacCity\n",
       "                        <br/>Last Modified: May 23, 2017\n",
       "                        <br/>0 comments, 3 views\n",
       "                    </div>\n",
       "                </div>\n",
       "                "
      ],
      "text/plain": [
       "<Item title:\"UF_Maintenance_Zones\" type:Feature Service owner:Publisher_SacCity>"
      ]
     },
     "metadata": {},
     "output_type": "display_data"
    },
    {
     "data": {
      "text/html": [
       "<div class=\"item_container\" style=\"height: auto; overflow: hidden; border: 1px solid #cfcfcf; border-radius: 2px; background: #f6fafa; line-height: 1.21429em; padding: 10px;\">\n",
       "                    <div class=\"item_left\" style=\"width: 210px; float: left;\">\n",
       "                       <a href='http://www.arcgis.com/home/item.html?id=13a1baa3b9c04fdf9bb5b8a8387d1da3' target='_blank'>\n",
       "                        <img src='http://www.arcgis.com/sharing/rest//content/items/13a1baa3b9c04fdf9bb5b8a8387d1da3/info/thumbnail/thumbnail.png' class=\"itemThumbnail\">\n",
       "                       </a>\n",
       "                    </div>\n",
       "\n",
       "                    <div class=\"item_right\"     style=\"float: none; width: auto; overflow: hidden;\">\n",
       "                        <a href='http://www.arcgis.com/home/item.html?id=13a1baa3b9c04fdf9bb5b8a8387d1da3' target='_blank'><b>Sacramento</b>\n",
       "                        </a>\n",
       "                        <br/>Placer County, City of Auburn Standard Tree Inventory Map<img src='http://www.arcgis.com/home/js/jsapi/esri/css/images/item_type_icons/featureshosted16.png' style=\"vertical-align:middle;\">Feature Layer Collection by jumcnama\n",
       "                        <br/>Last Modified: February 28, 2017\n",
       "                        <br/>0 comments, 0 views\n",
       "                    </div>\n",
       "                </div>\n",
       "                "
      ],
      "text/plain": [
       "<Item title:\"Sacramento\" type:Feature Service owner:jumcnama>"
      ]
     },
     "metadata": {},
     "output_type": "display_data"
    }
   ],
   "source": [
    "gis = GIS()\n",
    "trees = gis.content.search(\"Sacramento Trees\", \"feature service\", max_items=10)\n",
    "\n",
    "for item in trees:\n",
    "    display(item)"
   ]
  },
  {
   "cell_type": "code",
   "execution_count": 5,
   "metadata": {
    "scrolled": true
   },
   "outputs": [
    {
     "data": {
      "text/html": [
       "<div class=\"item_container\" style=\"height: auto; overflow: hidden; border: 1px solid #cfcfcf; border-radius: 2px; background: #f6fafa; line-height: 1.21429em; padding: 10px;\">\n",
       "                    <div class=\"item_left\" style=\"width: 210px; float: left;\">\n",
       "                       <a href='http://www.arcgis.com/home/item.html?id=b3047674f3f04a759c484fe5208faf6c' target='_blank'>\n",
       "                        <img src='http://www.arcgis.com/sharing/rest//content/items/b3047674f3f04a759c484fe5208faf6c/info/thumbnail/Sac_OD_Thumb_-_GIS.png' class=\"itemThumbnail\">\n",
       "                       </a>\n",
       "                    </div>\n",
       "\n",
       "                    <div class=\"item_right\"     style=\"float: none; width: auto; overflow: hidden;\">\n",
       "                        <a href='http://www.arcgis.com/home/item.html?id=b3047674f3f04a759c484fe5208faf6c' target='_blank'><b>Parks</b>\n",
       "                        </a>\n",
       "                        <br/>To show existing and proposed parks within the City of Sacramento, CA.<img src='http://www.arcgis.com/home/js/jsapi/esri/css/images/item_type_icons/featureshosted16.png' style=\"vertical-align:middle;\">Feature Layer Collection by Publisher_SacCity\n",
       "                        <br/>Last Modified: April 30, 2017\n",
       "                        <br/>0 comments, 9 views\n",
       "                    </div>\n",
       "                </div>\n",
       "                "
      ],
      "text/plain": [
       "<Item title:\"Parks\" type:Feature Service owner:Publisher_SacCity>"
      ]
     },
     "metadata": {},
     "output_type": "display_data"
    }
   ],
   "source": [
    "parks = gis.content.search(\"title:Parks tags:Parks, Open Data description: Sacramento\", \"feature service\", max_items=10)\n",
    "\n",
    "for park_item in parks:\n",
    "    display(park_item)"
   ]
  },
  {
   "cell_type": "code",
   "execution_count": 8,
   "metadata": {},
   "outputs": [
    {
     "data": {
      "application/vnd.jupyter.widget-view+json": {
       "model_id": "1b36b3f658aa4a23aa189d0cc6dc3fbc"
      }
     },
     "metadata": {},
     "output_type": "display_data"
    }
   ],
   "source": [
    "\n",
    "tree_map = gis.map(\"State Capitol, Sacramento\", 16)\n",
    "tree_map.basemap = \"dark-gray\"\n",
    "display(tree_map)"
   ]
  },
  {
   "cell_type": "code",
   "execution_count": 9,
   "metadata": {
    "collapsed": true
   },
   "outputs": [],
   "source": [
    "tree_map.add_layer(parks[0],{\"opacity\":.5})\n",
    "tree_map.add_layer(trees[2],{\"definition_expression\" : \"LANDUSE ='Park'\"})"
   ]
  }
 ],
 "metadata": {
  "kernelspec": {
   "display_name": "Python 3",
   "language": "python",
   "name": "python3"
  },
  "language_info": {
   "codemirror_mode": {
    "name": "ipython",
    "version": 3
   },
   "file_extension": ".py",
   "mimetype": "text/x-python",
   "name": "python",
   "nbconvert_exporter": "python",
   "pygments_lexer": "ipython3",
   "version": "3.6.1"
  }
 },
 "nbformat": 4,
 "nbformat_minor": 2
}
